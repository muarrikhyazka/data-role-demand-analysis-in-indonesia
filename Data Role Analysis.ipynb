{
 "cells": [
  {
   "cell_type": "code",
   "execution_count": 1,
   "id": "833f37c2",
   "metadata": {},
   "outputs": [],
   "source": [
    "import pandas as pd\n",
    "import matplotlib.pyplot as plt\n",
    "import seaborn as sns"
   ]
  },
  {
   "cell_type": "code",
   "execution_count": 2,
   "id": "4730c670",
   "metadata": {},
   "outputs": [],
   "source": [
    "df_raw = pd.read_csv(r'data/LinkedinScrape_Data_Indonesia_.csv', sep=';')"
   ]
  },
  {
   "cell_type": "code",
   "execution_count": 3,
   "id": "2dcab934",
   "metadata": {},
   "outputs": [],
   "source": [
    "df = df_raw.copy()"
   ]
  },
  {
   "cell_type": "code",
   "execution_count": 5,
   "id": "4b0a8717",
   "metadata": {},
   "outputs": [
    {
     "data": {
      "text/plain": [
       "array(['Arizona, United States', 'Albert Lea, MN', 'Moorhead, MN',\n",
       "       'Brainerd, MN', 'Mankato, MN', 'Stillwater, MN', 'Ramsey, MN',\n",
       "       'Cooke City, MT', 'Jacksonville, FL', 'Woodcliff Lake, NJ',\n",
       "       'New York, NY', 'Salem, OR', 'Lanham, MD', 'Pleasant Grove, UT',\n",
       "       'Ontario, CA', 'Manteca, CA', 'Myrtle Beach, SC', 'Edinburg, TX',\n",
       "       'Washington, DC', 'Des Moines, IA', 'San Diego, CA',\n",
       "       'United States', 'Clinton, NY', 'New York County, NY',\n",
       "       'Denver, CO', 'Nashville, TN', 'Fort Worth, TX',\n",
       "       'Brooklyn Park, MN', 'Indianapolis, IN', 'Chagrin Falls, OH',\n",
       "       'Beaverton, OR', 'Home, KS', 'Montgomery, AL', 'Atlanta, GA',\n",
       "       'Boulder, CO', 'Hollywood, FL', 'Los Angeles, CA',\n",
       "       'Firestone Park, CA', 'Austin, TX', 'Frostburg, MD',\n",
       "       'Santa Ana, CA', 'Utica-Rome Area', 'Pico, CA', 'Chelsea, MA',\n",
       "       'Edison, NJ', 'Cincinnati, OH', 'Providence, RI', 'Morristown, NJ',\n",
       "       'Dallas, TX', 'Northwoods, MO', 'Calwa, CA', 'Mason, OH',\n",
       "       'St Louis, MO', 'Harvard, MA', 'Hingham, MA', 'Gainesville, GA',\n",
       "       'San Antonio, TX', 'United, PA', 'Boston, MA',\n",
       "       'Texas, United States', 'McLean, VA', 'Houston, TX', 'Chicago, IL',\n",
       "       'Franklin, TN', 'Brentwood, TN', 'Sturgis, KY', 'Bloomfield, CT',\n",
       "       'Irving, TX', 'Pensacola, FL', 'Tucson, AZ', 'Everett, WA',\n",
       "       'Las Vegas, NV', 'Phoenix, AZ', 'Cheektowaga, NY', 'Tampa, FL',\n",
       "       'Miami, FL', 'San Francisco, CA', 'Plano, TX',\n",
       "       'Whitehouse Station, NJ', 'Clarksville, MD', 'Modello, FL',\n",
       "       'Wollaston, MA', 'Allen Park, MI', 'Oakland, CA', 'Toledo, OH',\n",
       "       'Indiana, United States', 'Elk Grove Village, IL', 'Frederick, MD',\n",
       "       'Lawrenceville, GA', 'Fort Myer Heights, VA', 'Juneau, AK',\n",
       "       'Columbia, SC', 'Pasadena, CA', 'Kennesaw, GA', 'Monterey, CA',\n",
       "       'Durham, NC', 'Westlake, TX', 'New York, United States',\n",
       "       'Bonnie View, UT', 'Pearl Beach, MI', 'West Menlo Park, CA',\n",
       "       'Albany, OR', 'Parma, OH', 'Creve Coeur, MO', 'Woburn, MA',\n",
       "       'Palmdale, CA', 'Mountain View, CA', 'Minneapolis–Saint Paul, WI',\n",
       "       'Illinois, United States'], dtype=object)"
      ]
     },
     "execution_count": 5,
     "metadata": {},
     "output_type": "execute_result"
    }
   ],
   "source": [
    "df.Location.unique()"
   ]
  }
 ],
 "metadata": {
  "kernelspec": {
   "display_name": "Python 3",
   "language": "python",
   "name": "python3"
  },
  "language_info": {
   "codemirror_mode": {
    "name": "ipython",
    "version": 3
   },
   "file_extension": ".py",
   "mimetype": "text/x-python",
   "name": "python",
   "nbconvert_exporter": "python",
   "pygments_lexer": "ipython3",
   "version": "3.8.8"
  }
 },
 "nbformat": 4,
 "nbformat_minor": 5
}
